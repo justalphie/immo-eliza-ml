{
 "cells": [
  {
   "cell_type": "code",
   "execution_count": 2,
   "metadata": {},
   "outputs": [],
   "source": [
    "import os\n",
    "import pandas as pd\n",
    "import numpy as np\n",
    "import seaborn as sns\n",
    "import matplotlib.pyplot as plt"
   ]
  },
  {
   "cell_type": "code",
   "execution_count": 7,
   "metadata": {},
   "outputs": [],
   "source": [
    "apt_data_path = os.path.join(\".\", \"data\", \"clean_app.csv\")\n",
    "house_data_path = os.path.join(\".\", \"data\", \"clean_house.csv\")\n",
    "\n",
    "with open(apt_data_path, \"r\") as f:\n",
    "    df_apt = pd.read_csv(f)\n",
    "\n",
    "with open(house_data_path, \"r\") as f:\n",
    "    df_house = pd.read_csv(f)\n"
   ]
  },
  {
   "cell_type": "code",
   "execution_count": 9,
   "metadata": {},
   "outputs": [
    {
     "name": "stdout",
     "output_type": "stream",
     "text": [
      "Index(['property_id', 'locality_name', 'postal_code', 'latitude', 'longitude',\n",
      "       'property_type', 'property_subtype', 'price', 'type_of_sale',\n",
      "       'number_of_rooms', 'living_area', 'kitchen_type',\n",
      "       'fully_equipped_kitchen', 'furnished', 'open_fire', 'terrace',\n",
      "       'terrace_area', 'garden', 'garden_area', 'surface_of_good',\n",
      "       'number_of_facades', 'swimming_pool', 'state_of_building', 'main_city',\n",
      "       'province'],\n",
      "      dtype='object')\n",
      "Index(['property_id', 'locality_name', 'postal_code', 'latitude', 'longitude',\n",
      "       'property_type', 'property_subtype', 'price', 'type_of_sale',\n",
      "       'number_of_rooms', 'living_area', 'kitchen_type',\n",
      "       'fully_equipped_kitchen', 'furnished', 'open_fire', 'terrace',\n",
      "       'terrace_area', 'garden', 'garden_area', 'surface_of_good',\n",
      "       'number_of_facades', 'swimming_pool', 'state_of_building', 'main_city',\n",
      "       'province'],\n",
      "      dtype='object')\n"
     ]
    }
   ],
   "source": [
    "#what data do we have in each column?\n",
    "print(df_apt.columns)\n",
    "print(df_house.columns)"
   ]
  },
  {
   "cell_type": "code",
   "execution_count": 29,
   "metadata": {},
   "outputs": [
    {
     "data": {
      "text/plain": [
       "type_of_sale\n",
       "BUY_REGULAR    9284\n",
       "Name: count, dtype: int64"
      ]
     },
     "execution_count": 29,
     "metadata": {},
     "output_type": "execute_result"
    }
   ],
   "source": [
    "#\"PUBLIC_SALE\" and \"LIFE_ANNUITY\" are very rare types of sale\n",
    "index_type_of_sale = df_apt[(df_apt[\"type_of_sale\"] == \"PUBLIC_SALE\")| (df_apt[\"type_of_sale\"] == \"LIFE_ANNUITY\")].index\n",
    "df_apt.drop(index_type_of_sale, inplace=True)\n"
   ]
  },
  {
   "cell_type": "code",
   "execution_count": 30,
   "metadata": {},
   "outputs": [
    {
     "data": {
      "text/plain": [
       "kitchen_type\n",
       "INSTALLED             2714\n",
       "HYPER_EQUIPPED        1565\n",
       "USA_HYPER_EQUIPPED    1007\n",
       "SEMI_EQUIPPED          618\n",
       "USA_INSTALLED          286\n",
       "NOT_INSTALLED          230\n",
       "USA_SEMI_EQUIPPED      103\n",
       "USA_UNINSTALLED          5\n",
       "Name: count, dtype: int64"
      ]
     },
     "execution_count": 30,
     "metadata": {},
     "output_type": "execute_result"
    }
   ],
   "source": [
    "df_apt[\"kitchen_type\"].value_counts() \n"
   ]
  }
 ],
 "metadata": {
  "kernelspec": {
   "display_name": ".venv",
   "language": "python",
   "name": "python3"
  },
  "language_info": {
   "codemirror_mode": {
    "name": "ipython",
    "version": 3
   },
   "file_extension": ".py",
   "mimetype": "text/x-python",
   "name": "python",
   "nbconvert_exporter": "python",
   "pygments_lexer": "ipython3",
   "version": "3.10.11"
  }
 },
 "nbformat": 4,
 "nbformat_minor": 2
}
